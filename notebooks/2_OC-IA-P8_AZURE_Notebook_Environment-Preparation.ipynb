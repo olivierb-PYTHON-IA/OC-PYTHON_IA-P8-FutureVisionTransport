{
 "cells": [
  {
   "cell_type": "markdown",
   "id": "3a9030a2",
   "metadata": {},
   "source": [
    "# OpenClassrooms - Ingenieur IA\n",
    "# Projet 8 - Future Vision Transport \n",
    "# Participez à la conception d'une voiture autonome\n",
    "\n",
    "## Objectif du projet : \n",
    "- **Concevoir un premier modèle de segmentation d’images**\n",
    "\n",
    "## Plan :\n",
    "- **Mise en place de l'environnement de travail dans Azure**\n",
    "    - Récupération du Workspace Azure\n",
    "    - Récupération des données préparées du Datastore Azure\n",
    "    - Création d'un Dataset Azure\n",
    "    - Enregistrement du Dataset dans Azure\n",
    "    - Création de l'environnement Python dans Azure\n",
    "    - Enregistrement de l'environnement Python dans Azure"
   ]
  },
  {
   "cell_type": "code",
   "execution_count": 2,
   "id": "b3c46011",
   "metadata": {},
   "outputs": [],
   "source": [
    "import os\n",
    "\n",
    "from azureml.core import Workspace\n",
    "from azureml.core import Experiment\n",
    "from azureml.core import Environment\n",
    "from azureml.core.environment import CondaDependencies\n",
    "\n",
    "from azureml.core.datastore import Datastore\n",
    "from azureml.core.dataset import Dataset\n",
    "from azureml.core.authentication import ServicePrincipalAuthentication\n",
    "\n",
    "from azureml.data.dataset_type_definitions import FileType\n",
    "\n",
    "import warnings\n",
    "warnings.filterwarnings('ignore')"
   ]
  },
  {
   "cell_type": "markdown",
   "id": "3efc54a2",
   "metadata": {},
   "source": [
    "# Mise en place de l'environnement de travail dans Azure"
   ]
  },
  {
   "cell_type": "markdown",
   "id": "0ea0e826",
   "metadata": {},
   "source": [
    "### Récupération du Workspace Azure : authentification utilisant le service recommandé 'Service Principal Authentication'"
   ]
  },
  {
   "cell_type": "code",
   "execution_count": 3,
   "id": "50358b52",
   "metadata": {},
   "outputs": [],
   "source": [
    "svc_pr_password = os.environ['CITYSCAPE_SPA_PASSWORD']\n",
    "tenant_id = '894ad120-c276-4dfa-b218-d82b3fece6a7'\n",
    "application_id = '21cf902f-1dc0-459d-b352-b7490946f6c6'"
   ]
  },
  {
   "cell_type": "code",
   "execution_count": 4,
   "id": "adeda7b0",
   "metadata": {},
   "outputs": [],
   "source": [
    "svc_pr = ServicePrincipalAuthentication(\n",
    "        tenant_id=tenant_id,\n",
    "        service_principal_id=application_id,\n",
    "        service_principal_password=svc_pr_password)"
   ]
  },
  {
   "cell_type": "code",
   "execution_count": 5,
   "id": "1ef75ef4",
   "metadata": {},
   "outputs": [],
   "source": [
    "subscription_id = subscription_id = os.environ['AZURE_SUBSCRIPTION_ID']\n",
    "resource_group = 'OC-IA-P8-GPU'\n",
    "workspace_name = 'WS-IA-P8-GPU'\n",
    "ws = Workspace(\n",
    "        subscription_id=subscription_id,\n",
    "        resource_group=resource_group,\n",
    "        workspace_name=workspace_name,\n",
    "        auth=svc_pr)"
   ]
  },
  {
   "cell_type": "code",
   "execution_count": 6,
   "id": "b6830ab9",
   "metadata": {},
   "outputs": [
    {
     "name": "stdout",
     "output_type": "stream",
     "text": [
      "WS-IA-P8-GPU\teastus\tOC-IA-P8-GPU\n"
     ]
    }
   ],
   "source": [
    "print(ws.name, ws.location, ws.resource_group, sep='\\t')"
   ]
  },
  {
   "cell_type": "markdown",
   "id": "7cde4cb1",
   "metadata": {},
   "source": [
    "## Récupération des données préparées du Datastore Azure"
   ]
  },
  {
   "cell_type": "code",
   "execution_count": 7,
   "id": "6bfe9d6d",
   "metadata": {},
   "outputs": [],
   "source": [
    "datastore_prepared_name = \"datastore_cityscape_prepared\""
   ]
  },
  {
   "cell_type": "code",
   "execution_count": 8,
   "id": "b5b9a780",
   "metadata": {},
   "outputs": [],
   "source": [
    "datastore_prepared = Datastore.get(ws, datastore_prepared_name)"
   ]
  },
  {
   "cell_type": "code",
   "execution_count": 9,
   "id": "626c1491",
   "metadata": {},
   "outputs": [
    {
     "data": {
      "text/plain": [
       "{\n",
       "  \"name\": \"datastore_cityscape_prepared\",\n",
       "  \"container_name\": \"cityscape-prepared\",\n",
       "  \"account_name\": \"wsiap8gpu5520371261\",\n",
       "  \"protocol\": \"https\",\n",
       "  \"endpoint\": \"core.windows.net\"\n",
       "}"
      ]
     },
     "execution_count": 9,
     "metadata": {},
     "output_type": "execute_result"
    }
   ],
   "source": [
    "datastore_prepared"
   ]
  },
  {
   "cell_type": "markdown",
   "id": "ab189932",
   "metadata": {},
   "source": [
    "## Création d'un Dataset Azure"
   ]
  },
  {
   "cell_type": "code",
   "execution_count": 10,
   "id": "9360be23",
   "metadata": {},
   "outputs": [],
   "source": [
    "dataset_prepared = Dataset.File.from_files(path=[(datastore_prepared, ('/prepared_data/'))])"
   ]
  },
  {
   "cell_type": "code",
   "execution_count": 11,
   "id": "87814f77",
   "metadata": {},
   "outputs": [
    {
     "data": {
      "text/plain": [
       "{\n",
       "  \"source\": [\n",
       "    \"('datastore_cityscape_prepared', 'prepared_data/')\"\n",
       "  ],\n",
       "  \"definition\": [\n",
       "    \"GetDatastoreFiles\"\n",
       "  ]\n",
       "}"
      ]
     },
     "execution_count": 11,
     "metadata": {},
     "output_type": "execute_result"
    }
   ],
   "source": [
    "dataset_prepared"
   ]
  },
  {
   "cell_type": "markdown",
   "id": "921267e9",
   "metadata": {},
   "source": [
    "### Sanity check Dataset"
   ]
  },
  {
   "cell_type": "code",
   "execution_count": 12,
   "id": "205ffdb2",
   "metadata": {},
   "outputs": [
    {
     "data": {
      "text/plain": [
       "'/images/test/0.png'"
      ]
     },
     "execution_count": 12,
     "metadata": {},
     "output_type": "execute_result"
    }
   ],
   "source": [
    "dataset_prepared.to_path()[0]"
   ]
  },
  {
   "cell_type": "code",
   "execution_count": 13,
   "id": "5b7e722b",
   "metadata": {},
   "outputs": [
    {
     "data": {
      "text/plain": [
       "7070"
      ]
     },
     "execution_count": 13,
     "metadata": {},
     "output_type": "execute_result"
    }
   ],
   "source": [
    "len(dataset_prepared.to_path())"
   ]
  },
  {
   "cell_type": "markdown",
   "id": "1d1c4fc1",
   "metadata": {},
   "source": [
    "## Enregistrement du Dataset dans Azure (s'il n'est pas déjà enregistré)"
   ]
  },
  {
   "cell_type": "code",
   "execution_count": 14,
   "id": "446b37b0",
   "metadata": {},
   "outputs": [],
   "source": [
    "dataset_prepared_name = \"dataset_cityscape_prepared\""
   ]
  },
  {
   "cell_type": "code",
   "execution_count": 15,
   "id": "784ca6de",
   "metadata": {},
   "outputs": [
    {
     "name": "stdout",
     "output_type": "stream",
     "text": [
      "Le dataset pour le projet Cityscape est déjà enregistré.\n"
     ]
    }
   ],
   "source": [
    "dataset_registered = False\n",
    "\n",
    "try:\n",
    "    temp = Dataset.get_by_name(workspace = ws, name = dataset_prepared_name)\n",
    "    dataset_registered = True\n",
    "    print(\"Le dataset pour le projet Cityscape est déjà enregistré.\")\n",
    "except:\n",
    "    print(\"Le dataset pour le projet Cityscape n'est pas encore enregistré.\")\n",
    "\n",
    "if not dataset_registered:\n",
    "    dataset_prepared.register(workspace = ws,\n",
    "                    name = dataset_prepared_name,\n",
    "                    description='Dataset pour le projet Cityscape',\n",
    "                    create_new_version=False)\n",
    "    print(\"Le dataset pour le projet Cityscape a bien été enregistré.\")"
   ]
  },
  {
   "cell_type": "markdown",
   "id": "002368a7",
   "metadata": {},
   "source": [
    "## Création de l'environnement Python dans Azure\n",
    "- On récupère un environement Python dans Azure existant incorporant TensorFlow et la gestion des GPU\n",
    "- On ajoute à cet environnement les modules dont nous avons besoin\n",
    "- On supprime de cet environnement les modules dont nous n'avons pas besoin"
   ]
  },
  {
   "cell_type": "code",
   "execution_count": 16,
   "id": "b51a3c89",
   "metadata": {},
   "outputs": [],
   "source": [
    "environment_name=\"cityscape-environment\""
   ]
  },
  {
   "cell_type": "code",
   "execution_count": 17,
   "id": "fbc0fef3",
   "metadata": {
    "scrolled": true
   },
   "outputs": [
    {
     "name": "stderr",
     "output_type": "stream",
     "text": [
      "'enabled' is deprecated. Please use the azureml.core.runconfig.DockerConfiguration object with the 'use_docker' param instead.\n"
     ]
    },
    {
     "data": {
      "text/plain": [
       "{\n",
       "    \"databricks\": {\n",
       "        \"eggLibraries\": [],\n",
       "        \"jarLibraries\": [],\n",
       "        \"mavenLibraries\": [],\n",
       "        \"pypiLibraries\": [],\n",
       "        \"rcranLibraries\": []\n",
       "    },\n",
       "    \"docker\": {\n",
       "        \"arguments\": [],\n",
       "        \"baseDockerfile\": null,\n",
       "        \"baseImage\": \"mcr.microsoft.com/azureml/openmpi3.1.2-cuda10.1-cudnn7-ubuntu18.04:20210922.v1\",\n",
       "        \"baseImageRegistry\": {\n",
       "            \"address\": null,\n",
       "            \"password\": null,\n",
       "            \"registryIdentity\": null,\n",
       "            \"username\": null\n",
       "        },\n",
       "        \"enabled\": true,\n",
       "        \"platform\": {\n",
       "            \"architecture\": \"amd64\",\n",
       "            \"os\": \"Linux\"\n",
       "        },\n",
       "        \"sharedVolumes\": true,\n",
       "        \"shmSize\": null\n",
       "    },\n",
       "    \"environmentVariables\": {\n",
       "        \"EXAMPLE_ENV_VAR\": \"EXAMPLE_VALUE\"\n",
       "    },\n",
       "    \"inferencingStackVersion\": null,\n",
       "    \"name\": \"cityscape-environment\",\n",
       "    \"python\": {\n",
       "        \"baseCondaEnvironment\": null,\n",
       "        \"condaDependencies\": {\n",
       "            \"channels\": [\n",
       "                \"conda-forge\"\n",
       "            ],\n",
       "            \"dependencies\": [\n",
       "                \"python=3.6.2\",\n",
       "                \"pip=20.2.4\",\n",
       "                {\n",
       "                    \"pip\": [\n",
       "                        \"azureml-core==1.34.0\",\n",
       "                        \"azureml-defaults==1.34.0\",\n",
       "                        \"azureml-telemetry==1.34.0\",\n",
       "                        \"azureml-train-restclients-hyperdrive==1.34.0\",\n",
       "                        \"azureml-train-core==1.34.0\",\n",
       "                        \"tensorflow-gpu==2.3.0\",\n",
       "                        \"opencv-python\",\n",
       "                        \"albumentations\",\n",
       "                        \"segmentation-models\"\n",
       "                    ]\n",
       "                },\n",
       "                \"pip\",\n",
       "                \"pillow\"\n",
       "            ],\n",
       "            \"name\": \"azureml_a64fb50288a81f7c52b4d9de38ca78da\"\n",
       "        },\n",
       "        \"condaDependenciesFile\": null,\n",
       "        \"interpreterPath\": \"python\",\n",
       "        \"userManagedDependencies\": false\n",
       "    },\n",
       "    \"r\": null,\n",
       "    \"spark\": {\n",
       "        \"packages\": [],\n",
       "        \"precachePackages\": true,\n",
       "        \"repositories\": []\n",
       "    },\n",
       "    \"version\": null\n",
       "}"
      ]
     },
     "execution_count": 17,
     "metadata": {},
     "output_type": "execute_result"
    }
   ],
   "source": [
    "environment_list = Environment.list(workspace=ws)\n",
    "environment = environment_list['AzureML-TensorFlow-2.3-GPU'].clone(environment_name)\n",
    "environment.docker.enabled = True\n",
    "conda_dep = environment.python.conda_dependencies\n",
    "conda_dep.add_conda_package(\"pip\")\n",
    "conda_dep.add_conda_package(\"pillow\")\n",
    "conda_dep.add_pip_package(\"opencv-python\")\n",
    "conda_dep.add_pip_package(\"albumentations\")\n",
    "conda_dep.add_pip_package(\"segmentation-models\")\n",
    "conda_dep.remove_pip_package('horovod')\n",
    "conda_dep.remove_pip_package('cmake')\n",
    "environment.python.conda_dependencies=conda_dep\n",
    "environment"
   ]
  },
  {
   "cell_type": "markdown",
   "id": "3ea2b5ec",
   "metadata": {},
   "source": [
    "## Enregistrement de l'environnement Python dans Azure (s'il n'est pas déjà enregistré)"
   ]
  },
  {
   "cell_type": "code",
   "execution_count": 18,
   "id": "dbb9446d",
   "metadata": {},
   "outputs": [
    {
     "name": "stdout",
     "output_type": "stream",
     "text": [
      "L'environment Python pour le projet Cityscape est déjà enregistré.\n"
     ]
    }
   ],
   "source": [
    "environment_registered = False\n",
    "\n",
    "try:\n",
    "    temp = Environment.get(workspace = ws, name = environment_name)\n",
    "    environment_registered = True\n",
    "    print(\"L'environment Python pour le projet Cityscape est déjà enregistré.\")\n",
    "except:\n",
    "    print(\"L'environment Python pour le projet Cityscape n'est pas encore enregistré.\")\n",
    "\n",
    "if not environment_registered:\n",
    "    environment.register(workspace = ws)\n",
    "    print(\"L'environment Python pour le projet Cityscape a bien été enregistré.\")"
   ]
  },
  {
   "cell_type": "code",
   "execution_count": null,
   "id": "bc9ff2fd",
   "metadata": {},
   "outputs": [],
   "source": []
  }
 ],
 "metadata": {
  "kernelspec": {
   "display_name": "Python 3",
   "language": "python",
   "name": "python3"
  },
  "language_info": {
   "codemirror_mode": {
    "name": "ipython",
    "version": 3
   },
   "file_extension": ".py",
   "mimetype": "text/x-python",
   "name": "python",
   "nbconvert_exporter": "python",
   "pygments_lexer": "ipython3",
   "version": "3.8.8"
  }
 },
 "nbformat": 4,
 "nbformat_minor": 5
}
